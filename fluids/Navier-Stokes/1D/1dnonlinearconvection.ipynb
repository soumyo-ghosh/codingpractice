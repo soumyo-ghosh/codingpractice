{
 "cells": [
  {
   "cell_type": "code",
   "execution_count": 1,
   "id": "188492b3",
   "metadata": {},
   "outputs": [],
   "source": [
    "import numpy as np\n",
    "import matplotlib.pyplot as plt"
   ]
  },
  {
   "cell_type": "code",
   "execution_count": 2,
   "id": "25feb750",
   "metadata": {},
   "outputs": [],
   "source": [
    "nx = 41\n",
    "dx = 2/(nx-1)\n",
    "nt = 20\n",
    "dt = 0.025"
   ]
  },
  {
   "cell_type": "code",
   "execution_count": 3,
   "id": "c4b71924",
   "metadata": {},
   "outputs": [],
   "source": [
    "u = np.ones(nx)\n",
    "u[int(0.5/dx):int(1/dx+1)] = 2\n",
    "un = np.ones(nx)"
   ]
  },
  {
   "cell_type": "code",
   "execution_count": 4,
   "id": "3ddea07c",
   "metadata": {},
   "outputs": [
    {
     "data": {
      "text/plain": [
       "array([1., 1., 1., 1., 1., 1., 1., 1., 1., 1., 2., 2., 2., 2., 2., 2., 2.,\n",
       "       2., 2., 2., 2., 1., 1., 1., 1., 1., 1., 1., 1., 1., 1., 1., 1., 1.,\n",
       "       1., 1., 1., 1., 1., 1., 1.])"
      ]
     },
     "execution_count": 4,
     "metadata": {},
     "output_type": "execute_result"
    }
   ],
   "source": [
    "u"
   ]
  },
  {
   "cell_type": "code",
   "execution_count": 5,
   "id": "e64586b1",
   "metadata": {},
   "outputs": [],
   "source": [
    "for n in range(nt):\n",
    "    un=u.copy()\n",
    "    for i in range(1,nx):\n",
    "        u[i]=un[i]-un[i]*dt/dx*(un[i]-un[i-1])"
   ]
  },
  {
   "cell_type": "code",
   "execution_count": 6,
   "id": "60e28c4e",
   "metadata": {},
   "outputs": [
    {
     "data": {
      "text/plain": [
       "[<matplotlib.lines.Line2D at 0x7f2932efca00>]"
      ]
     },
     "execution_count": 6,
     "metadata": {},
     "output_type": "execute_result"
    },
    {
     "data": {
      "image/png": "[encoded data removed]",
      "text/plain": [
       "<Figure size 432x288 with 1 Axes>"
      ]
     },
     "metadata": {
      "needs_background": "light"
     },
     "output_type": "display_data"
    }
   ],
   "source": [
    "plt.plot(np.linspace(0,2,nx),u)"
   ]
  },
  {
   "cell_type": "code",
   "execution_count": null,
   "id": "baf71d16",
   "metadata": {},
   "outputs": [],
   "source": []
  }
 ],
 "metadata": {
  "kernelspec": {
   "display_name": "Python 3 (ipykernel)",
   "language": "python",
   "name": "python3"
  },
  "language_info": {
   "codemirror_mode": {
    "name": "ipython",
    "version": 3
   },
   "file_extension": ".py",
   "mimetype": "text/x-python",
   "name": "python",
   "nbconvert_exporter": "python",
   "pygments_lexer": "ipython3",
   "version": "3.9.7"
  }
 },
 "nbformat": 4,
 "nbformat_minor": 5
}
