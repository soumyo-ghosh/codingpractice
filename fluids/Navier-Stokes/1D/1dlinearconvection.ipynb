{
 "cells": [
  {
   "cell_type": "markdown",
   "id": "56a31040",
   "metadata": {},
   "source": [
    "# Importing relavent packages"
   ]
  },
  {
   "cell_type": "code",
   "execution_count": 6,
   "id": "16a4e403",
   "metadata": {},
   "outputs": [],
   "source": [
    "import numpy as np\n",
    "import matplotlib.pyplot as plt\n",
    "import time,sys"
   ]
  },
  {
   "cell_type": "markdown",
   "id": "a15c0ec5",
   "metadata": {},
   "source": [
    "# Defining the initial variables"
   ]
  },
  {
   "cell_type": "code",
   "execution_count": 3,
   "id": "a70f1eaa",
   "metadata": {},
   "outputs": [],
   "source": [
    "nx = 41         #Number of grid points\n",
    "dx = 2/(nx-1)   #Distance between adjacent pair of grid points\n",
    "nt = 25         #Number of time steps\n",
    "dt = 0.025      #time interval\n",
    "c = 1           #Wavespeed "
   ]
  },
  {
   "cell_type": "markdown",
   "id": "979f972e",
   "metadata": {},
   "source": [
    "# Defining Initial Conditions\n",
    "\n",
    "Initial velocity $u_0$ is given as $u=2$ in the interval $0.5 \\le x \\le 2$  and $u=1$ everywhere else in (0,2)"
   ]
  },
  {
   "cell_type": "code",
   "execution_count": 5,
   "id": "a6e1bcd9",
   "metadata": {},
   "outputs": [
    {
     "name": "stdout",
     "output_type": "stream",
     "text": [
      "[1. 1. 1. 1. 1. 1. 1. 1. 1. 1. 2. 2. 2. 2. 2. 2. 2. 2. 2. 2. 2. 1. 1. 1.\n",
      " 1. 1. 1. 1. 1. 1. 1. 1. 1. 1. 1. 1. 1. 1. 1. 1. 1.]\n"
     ]
    }
   ],
   "source": [
    "u=np.ones(nx)\n",
    "u[int(0.5/dx):int(1/dx+1)] = 2\n",
    "print(u)"
   ]
  },
  {
   "cell_type": "code",
   "execution_count": null,
   "id": "e6bef666",
   "metadata": {},
   "outputs": [],
   "source": []
  }
 ],
 "metadata": {
  "kernelspec": {
   "display_name": "Python 3 (ipykernel)",
   "language": "python",
   "name": "python3"
  },
  "language_info": {
   "codemirror_mode": {
    "name": "ipython",
    "version": 3
   },
   "file_extension": ".py",
   "mimetype": "text/x-python",
   "name": "python",
   "nbconvert_exporter": "python",
   "pygments_lexer": "ipython3",
   "version": "3.9.7"
  }
 },
 "nbformat": 4,
 "nbformat_minor": 5
}
