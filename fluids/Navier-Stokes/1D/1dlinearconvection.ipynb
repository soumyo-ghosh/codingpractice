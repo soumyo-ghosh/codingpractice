{
 "cells": [
  {
   "cell_type": "markdown",
   "id": "4a29da21",
   "metadata": {},
   "source": [
    "# Importing relavent packages"
   ]
  },
  {
   "cell_type": "code",
   "execution_count": 6,
   "id": "328a865f",
   "metadata": {},
   "outputs": [],
   "source": [
    "import numpy as np\n",
    "import matplotlib.pyplot as plt\n",
    "import time,sys"
   ]
  },
  {
   "cell_type": "markdown",
   "id": "d225674a",
   "metadata": {},
   "source": [
    "# Defining the initial variables"
   ]
  },
  {
   "cell_type": "code",
   "execution_count": 3,
   "id": "15e92130",
   "metadata": {},
   "outputs": [],
   "source": [
    "nx = 41         #Number of grid points\n",
    "dx = 2/(nx-1)   #Distance between adjacent pair of grid points\n",
    "nt = 25         #Number of time steps\n",
    "dt = 0.025      #time interval\n",
    "c = 1           #Wavespeed "
   ]
  },
  {
   "cell_type": "markdown",
   "id": "b32bdc29",
   "metadata": {},
   "source": [
    "# Defining Initial Conditions\n",
    "\n",
    "Initial velocity $u_0$ is given as $u=2$ in the interval $0.5 \\le x \\le 2$  and $u=1$ everywhere else in (0,2)"
   ]
  },
  {
   "cell_type": "code",
   "execution_count": 5,
   "id": "f58865c4",
   "metadata": {},
   "outputs": [
    {
     "name": "stdout",
     "output_type": "stream",
     "text": [
      "[1. 1. 1. 1. 1. 1. 1. 1. 1. 1. 2. 2. 2. 2. 2. 2. 2. 2. 2. 2. 2. 1. 1. 1.\n",
      " 1. 1. 1. 1. 1. 1. 1. 1. 1. 1. 1. 1. 1. 1. 1. 1. 1.]\n"
     ]
    }
   ],
   "source": [
    "u=np.ones(nx)\n",
    "u[int(0.5/dx):int(1/dx+1)] = 2\n",
    "print(u)"
   ]
  },
  {
   "cell_type": "code",
   "execution_count": 9,
   "id": "990569f6",
   "metadata": {},
   "outputs": [],
   "source": [
    "un=np.ones(nx)\n",
    "\n",
    "for n in range(nt):\n",
    "    un = u.copy()\n",
    "    for i in range (1,nx):\n",
    "        u[i]=un[i]-c*dt/dx*(un[i]-un[i-1])"
   ]
  },
  {
   "cell_type": "code",
   "execution_count": 10,
   "id": "045170d5",
   "metadata": {},
   "outputs": [
    {
     "data": {
      "text/plain": [
       "[<matplotlib.lines.Line2D at 0x7ffaed23d610>]"
      ]
     },
     "execution_count": 10,
     "metadata": {},
     "output_type": "execute_result"
    },
    {
     "data": {
      "image/png": "[encoded data removed]",
      "text/plain": [
       "<Figure size 432x288 with 1 Axes>"
      ]
     },
     "metadata": {
      "needs_background": "light"
     },
     "output_type": "display_data"
    }
   ],
   "source": [
    "plt.plot(np.linspace(0,2,nx),u)"
   ]
  },
  {
   "cell_type": "code",
   "execution_count": null,
   "id": "5de395e9",
   "metadata": {},
   "outputs": [],
   "source": []
  }
 ],
 "metadata": {
  "kernelspec": {
   "display_name": "Python 3 (ipykernel)",
   "language": "python",
   "name": "python3"
  },
  "language_info": {
   "codemirror_mode": {
    "name": "ipython",
    "version": 3
   },
   "file_extension": ".py",
   "mimetype": "text/x-python",
   "name": "python",
   "nbconvert_exporter": "python",
   "pygments_lexer": "ipython3",
   "version": "3.9.7"
  }
 },
 "nbformat": 4,
 "nbformat_minor": 5
}
